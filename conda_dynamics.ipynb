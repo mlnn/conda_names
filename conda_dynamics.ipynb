{
 "cells": [
  {
   "cell_type": "code",
   "execution_count": 5,
   "metadata": {
    "collapsed": true
   },
   "outputs": [],
   "source": [
    "import pandas as pd"
   ]
  },
  {
   "cell_type": "code",
   "execution_count": 6,
   "metadata": {
    "collapsed": true
   },
   "outputs": [],
   "source": [
    "DATA_PATH = 'names/'"
   ]
  },
  {
   "cell_type": "code",
   "execution_count": 32,
   "metadata": {
    "collapsed": false
   },
   "outputs": [],
   "source": [
    "def count_dynamics(years):\n",
    "    dict_dynamics = {}\n",
    "    if len(years) > 1:\n",
    "        names_all = pd.read_csv(\n",
    "            DATA_PATH + 'yob' + str(years[0]) + '.txt',\n",
    "            names=['Name','Gender','Count']\n",
    "        )\n",
    "        for year in years[1:]:\n",
    "            names_temp = pd.read_csv(\n",
    "                DATA_PATH + 'yob' + str(year) + '.txt',\n",
    "                names=['Name','Gender','Count']\n",
    "            )\n",
    "            names_all = pd.merge(names_all, names_temp, on=['Name', 'Gender'])\n",
    "        dynamics = names_all.groupby('Gender').sum()\n",
    "        dict_dynamics['M'] = dynamics.ix[0].tolist()\n",
    "        dict_dynamics['F'] = dynamics.ix[1].tolist()\n",
    "    elif len(years) == 1:\n",
    "        names_all = pd.read_csv(\n",
    "            DATA_PATH + 'yob' + str(years[0]) + '.txt',\n",
    "            names=['Name','Gender','Count']\n",
    "        )\n",
    "        dynamics = names_all.groupby('Gender').sum()\n",
    "        dict_dynamics['M'] = [dynamics.ix[0,'Count']]\n",
    "        dict_dynamics['F'] = [dynamics.ix[1,'Count']]\n",
    "    return dict_dynamics"
   ]
  },
  {
   "cell_type": "code",
   "execution_count": 33,
   "metadata": {
    "collapsed": false
   },
   "outputs": [
    {
     "data": {
      "text/plain": [
       "{'F': [108742, 99380, 111669], 'M': [89708, 90683, 105969]}"
      ]
     },
     "execution_count": 33,
     "metadata": {},
     "output_type": "execute_result"
    }
   ],
   "source": [
    "count_dynamics([1880, 1881, 1882])"
   ]
  },
  {
   "cell_type": "code",
   "execution_count": 23,
   "metadata": {
    "collapsed": false
   },
   "outputs": [
    {
     "data": {
      "text/plain": [
       "{'F': [110491], 'M': [90992]}"
      ]
     },
     "execution_count": 23,
     "metadata": {},
     "output_type": "execute_result"
    }
   ],
   "source": [
    "count_dynamics([1880])"
   ]
  }
 ],
 "metadata": {
  "kernelspec": {
   "display_name": "Python 3",
   "language": "python",
   "name": "python3"
  },
  "language_info": {
   "codemirror_mode": {
    "name": "ipython",
    "version": 3
   },
   "file_extension": ".py",
   "mimetype": "text/x-python",
   "name": "python",
   "nbconvert_exporter": "python",
   "pygments_lexer": "ipython3",
   "version": "3.6.0"
  }
 },
 "nbformat": 4,
 "nbformat_minor": 2
}
