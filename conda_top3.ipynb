{
 "cells": [
  {
   "cell_type": "code",
   "execution_count": 1,
   "metadata": {
    "collapsed": true
   },
   "outputs": [],
   "source": [
    "import pandas as pd"
   ]
  },
  {
   "cell_type": "code",
   "execution_count": 2,
   "metadata": {
    "collapsed": true
   },
   "outputs": [],
   "source": [
    "DATA_PATH = 'names/'"
   ]
  },
  {
   "cell_type": "code",
   "execution_count": 147,
   "metadata": {
    "collapsed": false
   },
   "outputs": [],
   "source": [
    "def count_top3(years):\n",
    "    if len(years) > 1:\n",
    "        names_all = pd.read_csv(\n",
    "            DATA_PATH + 'yob' + str(years[0]) + '.txt',\n",
    "            names=['Name','Gender','Count']\n",
    "        )\n",
    "        for year in years[1:]:\n",
    "            names_temp = pd.read_csv(\n",
    "                DATA_PATH + 'yob' + str(year) + '.txt',\n",
    "                names=['Name','Gender','Count']\n",
    "            )\n",
    "            names_all = pd.concat([names_all, names_temp])\n",
    "    elif len(years) == 1:\n",
    "        names_all = pd.read_csv(\n",
    "            DATA_PATH + 'yob' + str(years[0]) + '.txt',\n",
    "            names=['Name','Gender','Count']\n",
    "        )\n",
    "    top3 = names_all.sort_values(by='Count', ascending=False).head(3)\n",
    "    return top3['Name'].tolist()"
   ]
  },
  {
   "cell_type": "code",
   "execution_count": 148,
   "metadata": {
    "collapsed": false
   },
   "outputs": [
    {
     "data": {
      "text/plain": [
       "['John', 'William', 'Mary']"
      ]
     },
     "execution_count": 148,
     "metadata": {},
     "output_type": "execute_result"
    }
   ],
   "source": [
    "count_top3([1880])"
   ]
  },
  {
   "cell_type": "code",
   "execution_count": 149,
   "metadata": {
    "collapsed": false
   },
   "outputs": [
    {
     "data": {
      "text/plain": [
       "['James', 'Robert', 'Linda']"
      ]
     },
     "execution_count": 149,
     "metadata": {},
     "output_type": "execute_result"
    }
   ],
   "source": [
    "count_top3([1900, 1950, 2000])"
   ]
  }
 ],
 "metadata": {
  "kernelspec": {
   "display_name": "Python 3",
   "language": "python",
   "name": "python3"
  },
  "language_info": {
   "codemirror_mode": {
    "name": "ipython",
    "version": 3
   },
   "file_extension": ".py",
   "mimetype": "text/x-python",
   "name": "python",
   "nbconvert_exporter": "python",
   "pygments_lexer": "ipython3",
   "version": "3.6.0"
  }
 },
 "nbformat": 4,
 "nbformat_minor": 2
}
